{
  "nbformat": 4,
  "nbformat_minor": 0,
  "metadata": {
    "colab": {
      "provenance": []
    },
    "kernelspec": {
      "name": "python3",
      "display_name": "Python 3"
    },
    "language_info": {
      "name": "python"
    },
    "accelerator": "GPU",
    "gpuClass": "standard"
  },
  "cells": [
    {
      "cell_type": "code",
      "source": [
        "!pip install rouge\n",
        "!pip install transformers\n",
        "!pip install tqdm\n",
        "!pip install nltk"
      ],
      "metadata": {
        "colab": {
          "base_uri": "https://localhost:8080/"
        },
        "id": "RSoxyscXcAby",
        "outputId": "944ce1dd-5dbd-4d0e-9fc7-1edbf1f66564"
      },
      "execution_count": 3,
      "outputs": [
        {
          "output_type": "stream",
          "name": "stdout",
          "text": [
            "Looking in indexes: https://pypi.org/simple, https://us-python.pkg.dev/colab-wheels/public/simple/\n",
            "Requirement already satisfied: rouge in /usr/local/lib/python3.10/dist-packages (1.0.1)\n",
            "Requirement already satisfied: six in /usr/local/lib/python3.10/dist-packages (from rouge) (1.16.0)\n",
            "Looking in indexes: https://pypi.org/simple, https://us-python.pkg.dev/colab-wheels/public/simple/\n",
            "Requirement already satisfied: transformers in /usr/local/lib/python3.10/dist-packages (4.28.1)\n",
            "Requirement already satisfied: tokenizers!=0.11.3,<0.14,>=0.11.1 in /usr/local/lib/python3.10/dist-packages (from transformers) (0.13.3)\n",
            "Requirement already satisfied: numpy>=1.17 in /usr/local/lib/python3.10/dist-packages (from transformers) (1.22.4)\n",
            "Requirement already satisfied: regex!=2019.12.17 in /usr/local/lib/python3.10/dist-packages (from transformers) (2022.10.31)\n",
            "Requirement already satisfied: filelock in /usr/local/lib/python3.10/dist-packages (from transformers) (3.12.0)\n",
            "Requirement already satisfied: requests in /usr/local/lib/python3.10/dist-packages (from transformers) (2.27.1)\n",
            "Requirement already satisfied: tqdm>=4.27 in /usr/local/lib/python3.10/dist-packages (from transformers) (4.65.0)\n",
            "Requirement already satisfied: huggingface-hub<1.0,>=0.11.0 in /usr/local/lib/python3.10/dist-packages (from transformers) (0.14.1)\n",
            "Requirement already satisfied: pyyaml>=5.1 in /usr/local/lib/python3.10/dist-packages (from transformers) (6.0)\n",
            "Requirement already satisfied: packaging>=20.0 in /usr/local/lib/python3.10/dist-packages (from transformers) (23.1)\n",
            "Requirement already satisfied: typing-extensions>=3.7.4.3 in /usr/local/lib/python3.10/dist-packages (from huggingface-hub<1.0,>=0.11.0->transformers) (4.5.0)\n",
            "Requirement already satisfied: fsspec in /usr/local/lib/python3.10/dist-packages (from huggingface-hub<1.0,>=0.11.0->transformers) (2023.4.0)\n",
            "Requirement already satisfied: idna<4,>=2.5 in /usr/local/lib/python3.10/dist-packages (from requests->transformers) (3.4)\n",
            "Requirement already satisfied: urllib3<1.27,>=1.21.1 in /usr/local/lib/python3.10/dist-packages (from requests->transformers) (1.26.15)\n",
            "Requirement already satisfied: charset-normalizer~=2.0.0 in /usr/local/lib/python3.10/dist-packages (from requests->transformers) (2.0.12)\n",
            "Requirement already satisfied: certifi>=2017.4.17 in /usr/local/lib/python3.10/dist-packages (from requests->transformers) (2022.12.7)\n",
            "Looking in indexes: https://pypi.org/simple, https://us-python.pkg.dev/colab-wheels/public/simple/\n",
            "Requirement already satisfied: tqdm in /usr/local/lib/python3.10/dist-packages (4.65.0)\n",
            "Looking in indexes: https://pypi.org/simple, https://us-python.pkg.dev/colab-wheels/public/simple/\n",
            "Requirement already satisfied: nltk in /usr/local/lib/python3.10/dist-packages (3.8.1)\n",
            "Requirement already satisfied: tqdm in /usr/local/lib/python3.10/dist-packages (from nltk) (4.65.0)\n",
            "Requirement already satisfied: joblib in /usr/local/lib/python3.10/dist-packages (from nltk) (1.2.0)\n",
            "Requirement already satisfied: click in /usr/local/lib/python3.10/dist-packages (from nltk) (8.1.3)\n",
            "Requirement already satisfied: regex>=2021.8.3 in /usr/local/lib/python3.10/dist-packages (from nltk) (2022.10.31)\n"
          ]
        }
      ]
    },
    {
      "cell_type": "code",
      "execution_count": 4,
      "metadata": {
        "id": "MVH8rKdRb5kn",
        "colab": {
          "base_uri": "https://localhost:8080/"
        },
        "outputId": "6c6391f0-7ddc-4e05-dfa8-8403f898db83"
      },
      "outputs": [
        {
          "output_type": "stream",
          "name": "stderr",
          "text": [
            "[nltk_data] Downloading package wordnet to /root/nltk_data...\n",
            "[nltk_data]   Package wordnet is already up-to-date!\n",
            "[nltk_data] Downloading package wordnet_ic to /root/nltk_data...\n",
            "[nltk_data]   Package wordnet_ic is already up-to-date!\n"
          ]
        },
        {
          "output_type": "execute_result",
          "data": {
            "text/plain": [
              "True"
            ]
          },
          "metadata": {},
          "execution_count": 4
        }
      ],
      "source": [
        "import json, gzip\n",
        "from transformers import BartForConditionalGeneration, BartTokenizer\n",
        "from rouge import Rouge\n",
        "import random\n",
        "from tqdm import tqdm\n",
        "import nltk\n",
        "from nltk.translate import meteor_score\n",
        "import string\n",
        "nltk.download('wordnet')\n",
        "nltk.download('wordnet_ic')"
      ]
    },
    {
      "cell_type": "code",
      "source": [
        "# model = BartForConditionalGeneration.from_pretrained(\"facebook/bart-large-cnn\")\n",
        "# tokenizer = BartTokenizer.from_pretrained(\"facebook/bart-large-cnn\")\n",
        "model = BartForConditionalGeneration.from_pretrained(\"sshleifer/distilbart-cnn-12-6\")\n",
        "tokenizer = BartTokenizer.from_pretrained(\"sshleifer/distilbart-cnn-12-6\")\n",
        "rouge = Rouge()"
      ],
      "metadata": {
        "id": "adzE5cc4b7PD"
      },
      "execution_count": 5,
      "outputs": []
    },
    {
      "cell_type": "code",
      "source": [
        "path = \"/content/test.jsonl.gz\"\n",
        "data = []\n",
        "\n",
        "with gzip.open(path) as f:\n",
        "    for ln in f:\n",
        "        obj = json.loads(ln)\n",
        "        data.append(obj)\n"
      ],
      "metadata": {
        "id": "uAtQ3qVrcwp7"
      },
      "execution_count": 6,
      "outputs": []
    },
    {
      "cell_type": "code",
      "source": [
        "random.shuffle(data)\n",
        "numArticles = 50\n",
        "totScore_l = 0\n",
        "totScore_1 = 0\n",
        "totScore_2 = 0\n",
        "metScore = 0\n",
        "# to remove punctuation\n",
        "translator = str.maketrans('', '', string.punctuation)\n",
        "\n",
        "for article in tqdm(data[:numArticles]):\n",
        "    text = article[\"text\"]\n",
        "    summary = article[\"summary\"]\n",
        "    # title = article[\"title\"]\n",
        "\n",
        "    inputs = tokenizer.batch_encode_plus([text], max_length=1024, return_tensors=\"pt\")\n",
        "    summary_ids = model.generate(\n",
        "        inputs[\"input_ids\"], num_beams=4, max_length=200, early_stopping=True\n",
        "    )\n",
        "    bart_summary = tokenizer.decode(summary_ids.squeeze(), skip_special_tokens=True)\n",
        "\n",
        "    # ROUGE\n",
        "    scores = rouge.get_scores(bart_summary, summary)\n",
        "    totScore_l += scores[0][\"rouge-l\"][\"f\"]\n",
        "    totScore_1 += scores[0][\"rouge-1\"][\"f\"]\n",
        "    totScore_2 += scores[0][\"rouge-2\"][\"f\"]\n",
        "\n",
        "    # METEOR\n",
        "    ref = bart_summary.translate(translator).split()\n",
        "    hyp = summary.translate(translator).split()\n",
        "    score = meteor_score.meteor_score([ref], hyp)\n",
        "    metScore += score\n",
        "\n",
        "print()\n",
        "print(\"Rouge_l\")\n",
        "print(\"Total: \" + str(totScore_l))\n",
        "print(\"Average: \" + str(totScore_l / numArticles))\n",
        "print()\n",
        "print(\"Rouge_1\")\n",
        "print(\"Total: \" + str(totScore_1))\n",
        "print(\"Average: \" + str(totScore_1 / numArticles))\n",
        "print()\n",
        "print(\"Rouge_2\")\n",
        "print(\"Total: \" + str(totScore_2))\n",
        "print(\"Average: \" + str(totScore_2 / numArticles))\n",
        "print()\n",
        "print(\"METEOR\")\n",
        "print(\"Total: \" + str(metScore))\n",
        "print(\"Average: \" + str(metScore / numArticles))"
      ],
      "metadata": {
        "colab": {
          "base_uri": "https://localhost:8080/"
        },
        "id": "UxqZL9I_cqel",
        "outputId": "af8f95da-00b8-4a59-af51-c0180ecee570"
      },
      "execution_count": 10,
      "outputs": [
        {
          "output_type": "stream",
          "name": "stderr",
          "text": [
            "100%|██████████| 50/50 [11:14<00:00, 13.48s/it]"
          ]
        },
        {
          "output_type": "stream",
          "name": "stdout",
          "text": [
            "\n",
            "Rouge_l\n",
            "Total: 11.214123401590479\n",
            "Average: 0.22428246803180957\n",
            "\n",
            "Rouge_1\n",
            "Total: 12.007073639675331\n",
            "Average: 0.24014147279350662\n",
            "\n",
            "Rouge_2\n",
            "Total: 5.3082576076762615\n",
            "Average: 0.10616515215352523\n",
            "\n",
            "METEOR\n",
            "Total: 8.15201727894564\n",
            "Average: 0.1630403455789128\n"
          ]
        },
        {
          "output_type": "stream",
          "name": "stderr",
          "text": [
            "\n"
          ]
        }
      ]
    }
  ]
}